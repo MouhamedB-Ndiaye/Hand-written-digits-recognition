{
  "nbformat": 4,
  "nbformat_minor": 0,
  "metadata": {
    "colab": {
      "name": "Untitled4.ipynb",
      "provenance": [],
      "collapsed_sections": [],
      "authorship_tag": "ABX9TyMfkqcSNwTCkwpsmq3Ky4l0",
      "include_colab_link": true
    },
    "kernelspec": {
      "name": "python3",
      "display_name": "Python 3"
    },
    "language_info": {
      "name": "python"
    }
  },
  "cells": [
    {
      "cell_type": "markdown",
      "metadata": {
        "id": "view-in-github",
        "colab_type": "text"
      },
      "source": [
        "<a href=\"https://colab.research.google.com/github/MouhamedB-Ndiaye/Hand-written-digits-recognition/blob/main/Digits_recognition.ipynb\" target=\"_parent\"><img src=\"https://colab.research.google.com/assets/colab-badge.svg\" alt=\"Open In Colab\"/></a>"
      ]
    },
    {
      "cell_type": "code",
      "metadata": {
        "id": "xLxdkRVMpfXm"
      },
      "source": [
        "import tensorflow as tf\n",
        "import matplotlib.pyplot as plt"
      ],
      "execution_count": 1,
      "outputs": []
    },
    {
      "cell_type": "code",
      "metadata": {
        "colab": {
          "base_uri": "https://localhost:8080/"
        },
        "id": "i8JsotGJp68f",
        "outputId": "6f98fe1f-be25-455f-a8c9-5c9c77237e7b"
      },
      "source": [
        "# load the data and split the data to training set and test set\n",
        "\n",
        "(train_images, train_labels), (test_images, test_labels) = tf.keras.datasets.mnist.load_data()"
      ],
      "execution_count": 2,
      "outputs": [
        {
          "output_type": "stream",
          "name": "stdout",
          "text": [
            "Downloading data from https://storage.googleapis.com/tensorflow/tf-keras-datasets/mnist.npz\n",
            "11493376/11490434 [==============================] - 0s 0us/step\n",
            "11501568/11490434 [==============================] - 0s 0us/step\n"
          ]
        }
      ]
    },
    {
      "cell_type": "code",
      "metadata": {
        "id": "croiT4PVq_NQ"
      },
      "source": [
        "# scale down the value of the image pixels from 0-255 to 0-1\n",
        "\n",
        "train_images = train_images / 255.0\n",
        "\n",
        "test_images = test_images /255.0"
      ],
      "execution_count": 4,
      "outputs": []
    },
    {
      "cell_type": "code",
      "metadata": {
        "colab": {
          "base_uri": "https://localhost:8080/",
          "height": 316
        },
        "id": "iMDNI0strtHP",
        "outputId": "fc8f4533-804d-4a7c-c428-25750f171b99"
      },
      "source": [
        "# visualize the data\n",
        "\n",
        "print(train_images.shape)\n",
        "print(test_images.shape)\n",
        "print(train_labels.shape)\n",
        "\n",
        "plt.imshow(train_images[59999], cmap= 'jet')\n",
        "plt.show()"
      ],
      "execution_count": 17,
      "outputs": [
        {
          "output_type": "stream",
          "name": "stdout",
          "text": [
            "(60000, 28, 28)\n",
            "(10000, 28, 28)\n",
            "(60000,)\n"
          ]
        },
        {
          "output_type": "display_data",
          "data": {
            "image/png": "[encoded data removed]",
            "text/plain": [
              "<Figure size 432x288 with 1 Axes>"
            ]
          },
          "metadata": {
            "needs_background": "light"
          }
        }
      ]
    },
    {
      "cell_type": "code",
      "metadata": {
        "id": "tfZUgE3wsaIF"
      },
      "source": [
        "# define the model\n",
        "\n",
        "my_model = tf.keras.models.Sequential()\n",
        "my_model.add(tf.keras.layers.Flatten(input_shape=(28,28)))\n",
        "my_model.add(tf.keras.layers.Dense(128, activation='relu'))\n",
        "my_model.add(tf.keras.layers.Dense(10, activation='softmax'))\n",
        "#softmax function turns its inputs into a probabilistic range we can interpret"
      ],
      "execution_count": 20,
      "outputs": []
    },
    {
      "cell_type": "code",
      "metadata": {
        "id": "rptzUERqxCOA"
      },
      "source": [
        "# compile the model\n",
        "\n",
        "my_model.compile(optimizer='adam',\n",
        "                 loss= 'sparse_categorical_crossentropy',\n",
        "                 metrics=['accuracy'])"
      ],
      "execution_count": 21,
      "outputs": []
    },
    {
      "cell_type": "code",
      "metadata": {
        "colab": {
          "base_uri": "https://localhost:8080/"
        },
        "id": "seSUcGVZ0EyX",
        "outputId": "15da561e-5bf4-44ae-9f8e-81462fcd0423"
      },
      "source": [
        "# train the model\n",
        "\n",
        "my_model.fit(train_images, train_labels, epochs=7)\n",
        "#As we train the model for more epochs, the accuracy of our model will increase until a certain point. "
      ],
      "execution_count": 26,
      "outputs": [
        {
          "output_type": "stream",
          "name": "stdout",
          "text": [
            "Epoch 1/7\n",
            "1875/1875 [==============================] - 3s 2ms/step - loss: 0.1812 - accuracy: 0.9484\n",
            "Epoch 2/7\n",
            "1875/1875 [==============================] - 3s 2ms/step - loss: 0.1749 - accuracy: 0.9500\n",
            "Epoch 3/7\n",
            "1875/1875 [==============================] - 3s 2ms/step - loss: 0.1690 - accuracy: 0.9521\n",
            "Epoch 4/7\n",
            "1875/1875 [==============================] - 3s 2ms/step - loss: 0.1635 - accuracy: 0.9535\n",
            "Epoch 5/7\n",
            "1875/1875 [==============================] - 3s 2ms/step - loss: 0.1578 - accuracy: 0.9547\n",
            "Epoch 6/7\n",
            "1875/1875 [==============================] - 3s 2ms/step - loss: 0.1529 - accuracy: 0.9567\n",
            "Epoch 7/7\n",
            "1875/1875 [==============================] - 3s 2ms/step - loss: 0.1480 - accuracy: 0.9584\n"
          ]
        },
        {
          "output_type": "execute_result",
          "data": {
            "text/plain": [
              "<keras.callbacks.History at 0x7feaa4027ed0>"
            ]
          },
          "metadata": {},
          "execution_count": 26
        }
      ]
    },
    {
      "cell_type": "code",
      "metadata": {
        "colab": {
          "base_uri": "https://localhost:8080/"
        },
        "id": "56aG7IWO0xJ_",
        "outputId": "d0e98d35-c810-49cc-bfdb-3dd9442dbd2f"
      },
      "source": [
        "# checking the model for accuracy on the test data\n",
        "\n",
        "val_loss, val_acc = my_model.evaluate(test_images, test_labels)\n",
        "print(\"Test accuracy: \", val_acc)"
      ],
      "execution_count": 28,
      "outputs": [
        {
          "output_type": "stream",
          "name": "stdout",
          "text": [
            "313/313 [==============================] - 0s 1ms/step - loss: 0.1544 - accuracy: 0.9563\n",
            "Test accuracy:  0.9563000202178955\n"
          ]
        }
      ]
    },
    {
      "cell_type": "code",
      "metadata": {
        "colab": {
          "base_uri": "https://localhost:8080/"
        },
        "id": "ufOPqCAP20LA",
        "outputId": "cdb551b5-dac0-4316-d0b5-9ac9e7eefc0f"
      },
      "source": [
        "# saving our model for later use\n",
        "\n",
        "my_model.save('my_mnist_model')"
      ],
      "execution_count": 29,
      "outputs": [
        {
          "output_type": "stream",
          "name": "stdout",
          "text": [
            "INFO:tensorflow:Assets written to: my_mnist_model/assets\n"
          ]
        }
      ]
    },
    {
      "cell_type": "code",
      "metadata": {
        "id": "tCFit9ys4fd9"
      },
      "source": [
        "# Let’s retrieve the model from the file system to make sure that it works\n",
        "\n",
        "my_new_model = tf.keras.models.load_model('my_mnist_model')"
      ],
      "execution_count": 30,
      "outputs": []
    },
    {
      "cell_type": "code",
      "metadata": {
        "colab": {
          "base_uri": "https://localhost:8080/"
        },
        "id": "PoEg14Hb5V5M",
        "outputId": "7047967d-8792-4343-ce15-292258ed0f8f"
      },
      "source": [
        "#Let’s also test our new model with the test data \n",
        "#to make sure that we are getting the same exact accuracy with the new model as well.\n",
        "\n",
        "new_val_loss, new_val_acc = my_new_model.evaluate(test_images, test_labels)\n",
        "\n",
        "print(\"New Test accuracy:\", new_val_acc)"
      ],
      "execution_count": 31,
      "outputs": [
        {
          "output_type": "stream",
          "name": "stdout",
          "text": [
            "313/313 [==============================] - 0s 1ms/step - loss: 0.1544 - accuracy: 0.9563\n",
            "New Test accuracy: 0.9563000202178955\n"
          ]
        }
      ]
    },
    {
      "cell_type": "code",
      "metadata": {
        "id": "j5x3D4qt6-N3"
      },
      "source": [
        "# Conclusion: We have just built, trained, evaluated, saved, retrieved and re-evaluated our ML model. "
      ],
      "execution_count": null,
      "outputs": []
    }
  ]
}